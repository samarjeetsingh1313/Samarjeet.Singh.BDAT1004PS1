{
 "cells": [
  {
   "cell_type": "markdown",
   "id": "4c52d785",
   "metadata": {},
   "source": [
    "Question 1 C#\n",
    "What data type is each of the following?\n",
    "\n",
    "5\n",
    "\n",
    "5.0\n",
    "\n",
    "5 > 1\n",
    "\n",
    "'5'\n",
    "\n",
    "5 * 2\n",
    "\n",
    "'5' * 2\n",
    "\n",
    "'5' + '2'\n",
    "\n",
    "5 / 2\n",
    "\n",
    "5 % 2\n",
    "\n",
    "{5, 2, 1}\n",
    "\n",
    "5 == 3\n",
    "\n",
    "Pi (the number)\n",
    "\n"
   ]
  },
  {
   "cell_type": "markdown",
   "id": "2df8c4e5",
   "metadata": {},
   "source": [
    "Answer 1:\n",
    "\n",
    "5  - int\n",
    "\n",
    "5.0 - float\n",
    "\n",
    "5 > 1 - boolean\n",
    "\n",
    "'5' - char\n",
    "\n",
    "5 * 2 - int\n",
    "\n",
    "'5' * 2 - invalid\n",
    "\n",
    "'5' + '2' - string\n",
    "\n",
    "5 / 2 - int\n",
    "\n",
    "5 % 2 - int\n",
    "\n",
    "{5, 2, 1} - integer array\n",
    "\n",
    "5 == 3 - boolean\n",
    "\n",
    "Pi (the number) - float"
   ]
  },
  {
   "cell_type": "code",
   "execution_count": null,
   "id": "cabbdc3d",
   "metadata": {},
   "outputs": [],
   "source": []
  },
  {
   "cell_type": "markdown",
   "id": "227f790c",
   "metadata": {},
   "source": [
    "Question 2 C#\n",
    "Write (and evaluate) C# expressions that answer these questions:\n",
    "\n",
    "a. How many letters are there in 'Supercalifragilisticexpialidocious'?"
   ]
  },
  {
   "cell_type": "code",
   "execution_count": 18,
   "id": "4415413a",
   "metadata": {},
   "outputs": [
    {
     "name": "stdout",
     "output_type": "stream",
     "text": [
      "\n",
      "\n",
      " The Length of the given String w is: 34\n",
      "\n",
      "\r\n"
     ]
    }
   ],
   "source": [
    "string w = \"Supercalifragilisticexpialidocious\"; // Original string stored in w\n",
    "int count = w.Length; // Inbuilt function used to check the length of w\n",
    "\n",
    "Console.WriteLine($\"\\n\\n The Length of the given String w is: {count}\\n\\n\"); // To print the length of w\n"
   ]
  },
  {
   "cell_type": "markdown",
   "id": "5a0a4c8f",
   "metadata": {},
   "source": [
    "b. Does 'Supercalifragilisticexpialidocious' contain 'ice' as a substring?"
   ]
  },
  {
   "cell_type": "code",
   "execution_count": 19,
   "id": "a6788777",
   "metadata": {},
   "outputs": [
    {
     "name": "stdout",
     "output_type": "stream",
     "text": [
      "\n",
      "\n",
      " The given string w contains 'ice' as a substring : True\n",
      "\n",
      "\r\n"
     ]
    }
   ],
   "source": [
    " string w = \"Supercalifragilisticexpialidocious\";\n",
    "string substr = \"ice\";\n",
    "bool contain = w.Contains(substr);   // boolean function to check original string contained substring or not\n",
    "\n",
    "Console.WriteLine($\"\\n\\n The given string w contains 'ice' as a substring : {contain}\\n\\n\");  // Printing out results.\n",
    "    "
   ]
  },
  {
   "cell_type": "markdown",
   "id": "a472b78c",
   "metadata": {},
   "source": [
    "c. Which of the following words is the longest: Supercalifragilisticexpialidocious, Honorificabilitudinitatibus, or \n",
    "Bababadalgharaghtakamminarronnkonn?"
   ]
  },
  {
   "cell_type": "code",
   "execution_count": 24,
   "id": "1e3760e8",
   "metadata": {},
   "outputs": [
    {
     "name": "stdout",
     "output_type": "stream",
     "text": [
      "\n",
      "\n",
      " The longest word is: Error, Two or more words have the same length.\n",
      "\n",
      "\r\n"
     ]
    }
   ],
   "source": [
    "string w1 = \"Supercalifragilisticexpialidocious\";  // given strings assigned to w1, w2, and w3\n",
    "string w2 = \"Honorificabilitudinitatibus\";\n",
    "string w3 = \"Bababadalgharaghtakamminarronnkonn\";\n",
    "\n",
    "string lW = \"\";\n",
    "\n",
    "if (w1.Length > w2.Length && w1.Length > w3.Length)  // compare the length of w1 with w2 and w3\n",
    "{\n",
    "    lW = w1;\n",
    "}\n",
    "else if (w2.Length > w1.Length && w2.Length > w3.Length)  // compare the length of w2 with w1 and w3\n",
    "{\n",
    "    lW = w2;\n",
    "}\n",
    "else if (w3.Length > w1.Length && w3.Length > w2.Length)  // compare the length of w3 with w1 and w2\n",
    "{\n",
    "    lW = w3;\n",
    "}\n",
    "else\n",
    "{\n",
    "    lW = \"Error, Two or more words have the same length.\";  // assign an error message to lW if two or more words have the same length\n",
    "}\n",
    "\n",
    "Console.WriteLine($\"\\n\\n The longest word is: {lW}\\n\\n\");  // Printing out results.\n",
    "\n"
   ]
  },
  {
   "cell_type": "markdown",
   "id": "ad59f8e4",
   "metadata": {},
   "source": [
    "d. Which composer comes first in the dictionary: 'Berlioz', 'Borodin', 'Brian', 'Bartok', 'Bellini',\n",
    "'Buxtehude', 'Bernstein'. Which one comes last?"
   ]
  },
  {
   "cell_type": "code",
   "execution_count": 26,
   "id": "e95dbfa5",
   "metadata": {},
   "outputs": [
    {
     "name": "stdout",
     "output_type": "stream",
     "text": [
      "\n",
      "\n",
      " First composer: Bartok\n",
      "\n",
      "\n",
      "\n",
      "\n",
      " Last composer: Buxtehude\n",
      "\n",
      "\n"
     ]
    }
   ],
   "source": [
    "\n",
    "\n",
    "string[] a = { \"Berlioz\", \"Borodin\", \"Brian\", \"Bartok\", \"Bellini\", \"Buxtehude\", \"Bernstein\" };  // String stord in array\n",
    "\n",
    "Array.Sort(a); // Inbuilt function to sort an array\n",
    "\n",
    "string firstComposer = a[0];   \n",
    "string lastComposer = a[a.Length - 1];\n",
    "\n",
    "Console.WriteLine($\"\\n\\n First composer: {firstComposer}\\n\\n\");  // Printing out results.\n",
    "Console.WriteLine($\"\\n\\n Last composer: {lastComposer}\\n\\n\");    // Printing out results.\n",
    "\n",
    "    "
   ]
  },
  {
   "cell_type": "code",
   "execution_count": null,
   "id": "b22b80c9",
   "metadata": {},
   "outputs": [],
   "source": []
  },
  {
   "cell_type": "markdown",
   "id": "e13d8985",
   "metadata": {},
   "source": [
    "Question 3 C#\n",
    "Implement function triangleArea(a,b,c) that takes as input the lengths of the 3 sides of a triangle and returns the \n",
    "area of the triangle. By Heron's formula, the area of a triangle w ith side lengths a, b, and c is s(s − a)(s −b)(s −c), where\n",
    "s = (a + b + c)/2.\n",
    ">>> triangleArea(2,2,2) \n",
    "1.73205080756887728\n"
   ]
  },
  {
   "cell_type": "code",
   "execution_count": 27,
   "id": "b7cb2275",
   "metadata": {},
   "outputs": [
    {
     "name": "stdout",
     "output_type": "stream",
     "text": [
      "The area of the triangle with each side 2 is: 1.7320508075688772\n",
      "\n",
      "\r\n"
     ]
    }
   ],
   "source": [
    "using System;\n",
    "\n",
    "public class Triangle  //Using inbuilt public class Triangle\n",
    "{\n",
    "    public static double Area(double side1, double side2, double side3)  \n",
    "    {\n",
    "        double s = (side1 + side2 + side3) / 2;\n",
    "        double area = Math.Sqrt(s * (s - side1) * (s - side2) * (s - side3)); //Using Heron's formulato find the area\n",
    "        return area;\n",
    "    }\n",
    "}\n",
    "\n",
    "Triangle triangle = new Triangle();\n",
    "double side1 = 2;\n",
    "double side2 = 2;\n",
    "double side3 = 2;\n",
    "double area = Triangle.Area(side1, side2, side3);\n",
    "Console.WriteLine($\"The area of the triangle with each side 2 is: {area}\\n\\n\");  // Printing out results.\n",
    "    "
   ]
  },
  {
   "cell_type": "code",
   "execution_count": null,
   "id": "5577be34",
   "metadata": {},
   "outputs": [],
   "source": []
  },
  {
   "cell_type": "markdown",
   "id": "6a7254f1",
   "metadata": {},
   "source": [
    "Question 4 C#\n",
    "Write a program in C# Sharp to separate odd and even integers in separate arrays. \n",
    "Go to the editor\n",
    "Test Data :\n",
    "\n",
    "Input the number of elements to be stored in the array :5\n",
    "\n",
    "Input 5 elements in the array :\n",
    "element - 0 : 25\n",
    "\n",
    "element - 1 : 47\n",
    "\n",
    "element - 2 : 42\n",
    "\n",
    "element - 3 : 56\n",
    "\n",
    "element - 4 : 32"
   ]
  },
  {
   "cell_type": "code",
   "execution_count": 35,
   "id": "ff4696db",
   "metadata": {},
   "outputs": [
    {
     "name": "stdout",
     "output_type": "stream",
     "text": [
      "The Even numbers are:\n",
      "\n",
      "\n",
      "42\n",
      "56\n",
      "32\n",
      "The Odd numbers are:\n",
      "\n",
      "\n",
      "25\n",
      "47\n"
     ]
    }
   ],
   "source": [
    "int[] givenArray = new int[] {25, 47, 42, 56, 32}; // Assigned values to the array with given numbers\n",
    "\n",
    "int[] evenNum = new int[5];   // Declaring arrays for 'even' and 'odd' outputs \n",
    "int[] oddNum = new int[5];\n",
    "int j = 0, k = 0;\n",
    "\n",
    "for (int i = 0; i < 5; i++)\n",
    "{\n",
    "    if (givenArray[i] % 2 == 0)   //using conditional statement if to get desired results\n",
    "    {\n",
    "        evenNum[j] = givenArray[i];\n",
    "        j++;\n",
    "    }\n",
    "    else                          //using conditional statement else to get desired results\n",
    "    {\n",
    "        oddNum[k] = givenArray[i];\n",
    "        k++;\n",
    "    }\n",
    "}\n",
    "\n",
    "Console.WriteLine(\"The Even numbers are:\\n\\n\");  //for loop is used to print Even numbers\n",
    "for (int i = 0; i < j; i++)\n",
    "{\n",
    "    Console.WriteLine(evenNum[i]);\n",
    "}\n",
    "\n",
    "Console.WriteLine(\"The Odd numbers are:\\n\\n\");  //for loop is used to print Odd numbers\n",
    "for (int i = 0; i < k; i++)\n",
    "{\n",
    "    Console.WriteLine(oddNum[i]);\n",
    "}\n"
   ]
  },
  {
   "cell_type": "code",
   "execution_count": null,
   "id": "8785c142",
   "metadata": {},
   "outputs": [],
   "source": []
  },
  {
   "cell_type": "markdown",
   "id": "2e84dd39",
   "metadata": {},
   "source": [
    "Question 5 C#\n",
    "a. Write a function inside(x,y,x1,y1,x2,y2) that returns True or False \n",
    "depending on whether the point(x,y)lies in the rectangle with lower left \n",
    "corner (x1,y1) and upper right corner (x2,y2).\n",
    "\n",
    ">>> inside(1,1,0,0,2,3)\n",
    "True\n",
    "\n",
    ">>> inside(-1,-1,0,0,2,3)\n",
    "False"
   ]
  },
  {
   "cell_type": "code",
   "execution_count": 30,
   "id": "c0598af5",
   "metadata": {},
   "outputs": [
    {
     "name": "stdout",
     "output_type": "stream",
     "text": [
      "(1,1) lies inside rectangle(1,1,0,0,2,3): True\n",
      "\n",
      "\n",
      "(-1,-1) lies inside rectangle(-1,-1,0,0,2,3): False\n",
      "\n",
      "\n"
     ]
    }
   ],
   "source": [
    "\n",
    "\n",
    "int x = 1;\n",
    "      int y = 1;\n",
    "        int x1 = 0;\n",
    "        int y1 = 0;\n",
    "        int x2 = 2;\n",
    "        int y2 = 3;\n",
    "\n",
    "        bool inside = (x >= x1 && x <= x2 && y >= y1 && y <= y2);  /*Boolean function to check given point lies inside \n",
    "                                                                     the triangle or not if yes it will given output \n",
    "                                                                     True otherwise False*/\n",
    "\n",
    "        Console.WriteLine($\"(1,1) lies inside rectangle(1,1,0,0,2,3): {inside}\\n\\n\");  \n",
    "        x = -1;\n",
    "        y = -1;\n",
    "\n",
    "        inside = (x >= x1 && x <= x2 && y >= y1 && y <= y2);\n",
    "\n",
    "        Console.WriteLine($\"(-1,-1) lies inside rectangle(-1,-1,0,0,2,3): {inside}\\n\\n\");  // Printing out results."
   ]
  },
  {
   "cell_type": "markdown",
   "id": "e953b8e4",
   "metadata": {},
   "source": [
    "b. Use function inside()from part a. to write an expression that tests whether the point (1,1) lies in both of the \n",
    "following rectangles: one with lower left corner (0.3, 0.5) and upper right corner (1.1, 0.7) and the other with lower \n",
    "left corner (0.5, 0.2) and upper right corner (1.1, 2)."
   ]
  },
  {
   "cell_type": "code",
   "execution_count": 32,
   "id": "76a31242",
   "metadata": {},
   "outputs": [
    {
     "name": "stdout",
     "output_type": "stream",
     "text": [
      "Both Rectabgles A and B is inside: False\n",
      "\n",
      "\r\n"
     ]
    }
   ],
   "source": [
    "\n",
    "\n",
    "    {\n",
    "        double x = 1;\n",
    "        double y = 1;\n",
    "\n",
    "        \n",
    "        double x1 = 0.3;\n",
    "        double y1 = 0.5;\n",
    "        double x2 = 1.1;\n",
    "        double y2 = 0.7;\n",
    "\n",
    "        bool liesInsideRectangle_A = (x >= x1 && x <= x2 && y >= y1 && y <= y2);   // Boolean Function to check given point lies inside triangle pr not\n",
    "\n",
    "        \n",
    "        x1 = 0.5;\n",
    "        y1 = 0.2;\n",
    "        y2 = 2;\n",
    "\n",
    "        bool liesInsideRectangle_B = (x >= x1 && x <= x2 && y >= y1 && y <= y2);  \n",
    "\n",
    " bool Is_inside  = liesInsideRectangle_A && liesInsideRectangle_B;  //Boolean function to take And of two boolean function\n",
    "\n",
    "        Console.WriteLine($\"Both Rectabgles A and B is inside: {Is_inside}\\n\\n\"); // Printing out results.\n",
    "    }\n",
    "\n",
    "\n",
    "\n"
   ]
  },
  {
   "cell_type": "code",
   "execution_count": null,
   "id": "5038bb6d",
   "metadata": {},
   "outputs": [],
   "source": []
  }
 ],
 "metadata": {
  "kernelspec": {
   "display_name": ".NET (C#)",
   "language": "C#",
   "name": ".net-csharp"
  },
  "language_info": {
   "file_extension": ".cs",
   "mimetype": "text/x-csharp",
   "name": "C#",
   "pygments_lexer": "csharp",
   "version": "11.0"
  }
 },
 "nbformat": 4,
 "nbformat_minor": 5
}
