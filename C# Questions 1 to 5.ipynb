{
 "cells": [
  {
   "cell_type": "markdown",
   "id": "4c52d785",
   "metadata": {},
   "source": [
    "Question 1 C#\n",
    "What data type is each of the following?\n",
    "\n",
    "5\n",
    "\n",
    "5.0\n",
    "\n",
    "5 > 1\n",
    "\n",
    "'5'\n",
    "\n",
    "5 * 2\n",
    "\n",
    "'5' * 2\n",
    "\n",
    "'5' + '2'\n",
    "\n",
    "5 / 2\n",
    "\n",
    "5 % 2\n",
    "\n",
    "{5, 2, 1}\n",
    "\n",
    "5 == 3\n",
    "\n",
    "Pi (the number)\n",
    "\n"
   ]
  },
  {
   "cell_type": "markdown",
   "id": "2df8c4e5",
   "metadata": {},
   "source": [
    "Answer 1:\n",
    "\n",
    "5  - int\n",
    "\n",
    "5.0 - float\n",
    "\n",
    "5 > 1 - boolean\n",
    "\n",
    "'5' - char\n",
    "\n",
    "5 * 2 - int\n",
    "\n",
    "'5' * 2 - invalid\n",
    "\n",
    "'5' + '2' - string\n",
    "\n",
    "5 / 2 - int\n",
    "\n",
    "5 % 2 - int\n",
    "\n",
    "{5, 2, 1} - integer array\n",
    "\n",
    "5 == 3 - boolean\n",
    "\n",
    "Pi (the number) - float"
   ]
  },
  {
   "cell_type": "code",
   "execution_count": null,
   "id": "cabbdc3d",
   "metadata": {},
   "outputs": [],
   "source": []
  },
  {
   "cell_type": "markdown",
   "id": "227f790c",
   "metadata": {},
   "source": [
    "Question 2 C#\n",
    "Write (and evaluate) C# expressions that answer these questions:\n",
    "\n",
    "a. How many letters are there in 'Supercalifragilisticexpialidocious'?"
   ]
  },
  {
   "cell_type": "code",
   "execution_count": 16,
   "id": "4415413a",
   "metadata": {},
   "outputs": [
    {
     "name": "stdout",
     "output_type": "stream",
     "text": [
      "Number of letters: 34\r\n"
     ]
    }
   ],
   "source": [
    "\n",
    "string w = \"Supercalifragilisticexpialidocious\";    // Original String stored in w\n",
    "        int count = w.Length;     // Inbuilt function used to check count of w\n",
    "\n",
    "        Console.WriteLine(\"Number of letters: \" + count); // To print count of w"
   ]
  },
  {
   "cell_type": "markdown",
   "id": "5a0a4c8f",
   "metadata": {},
   "source": [
    "b. Does 'Supercalifragilisticexpialidocious' contain 'ice' as a substring?"
   ]
  },
  {
   "cell_type": "code",
   "execution_count": 1,
   "id": "a6788777",
   "metadata": {},
   "outputs": [
    {
     "data": {
      "text/html": [
       "\r\n",
       "<div>\r\n",
       "    <div id='dotnet-interactive-this-cell-31948.Microsoft.DotNet.Interactive.Http.HttpPort' style='display: none'>\r\n",
       "        The below script needs to be able to find the current output cell; this is an easy method to get it.\r\n",
       "    </div>\r\n",
       "    <script type='text/javascript'>\r\n",
       "async function probeAddresses(probingAddresses) {\r\n",
       "    function timeout(ms, promise) {\r\n",
       "        return new Promise(function (resolve, reject) {\r\n",
       "            setTimeout(function () {\r\n",
       "                reject(new Error('timeout'))\r\n",
       "            }, ms)\r\n",
       "            promise.then(resolve, reject)\r\n",
       "        })\r\n",
       "    }\r\n",
       "\r\n",
       "    if (Array.isArray(probingAddresses)) {\r\n",
       "        for (let i = 0; i < probingAddresses.length; i++) {\r\n",
       "\r\n",
       "            let rootUrl = probingAddresses[i];\r\n",
       "\r\n",
       "            if (!rootUrl.endsWith('/')) {\r\n",
       "                rootUrl = `${rootUrl}/`;\r\n",
       "            }\r\n",
       "\r\n",
       "            try {\r\n",
       "                let response = await timeout(1000, fetch(`${rootUrl}discovery`, {\r\n",
       "                    method: 'POST',\r\n",
       "                    cache: 'no-cache',\r\n",
       "                    mode: 'cors',\r\n",
       "                    timeout: 1000,\r\n",
       "                    headers: {\r\n",
       "                        'Content-Type': 'text/plain'\r\n",
       "                    },\r\n",
       "                    body: probingAddresses[i]\r\n",
       "                }));\r\n",
       "\r\n",
       "                if (response.status == 200) {\r\n",
       "                    return rootUrl;\r\n",
       "                }\r\n",
       "            }\r\n",
       "            catch (e) { }\r\n",
       "        }\r\n",
       "    }\r\n",
       "}\r\n",
       "\r\n",
       "function loadDotnetInteractiveApi() {\r\n",
       "    probeAddresses([\"http://192.168.56.1:2049/\", \"http://10.0.0.176:2049/\", \"http://192.168.109.1:2049/\", \"http://192.168.16.1:2049/\", \"http://169.254.181.90:2049/\", \"http://127.0.0.1:2049/\"])\r\n",
       "        .then((root) => {\r\n",
       "        // use probing to find host url and api resources\r\n",
       "        // load interactive helpers and language services\r\n",
       "        let dotnetInteractiveRequire = require.config({\r\n",
       "        context: '31948.Microsoft.DotNet.Interactive.Http.HttpPort',\r\n",
       "                paths:\r\n",
       "            {\r\n",
       "                'dotnet-interactive': `${root}resources`\r\n",
       "                }\r\n",
       "        }) || require;\r\n",
       "\r\n",
       "            window.dotnetInteractiveRequire = dotnetInteractiveRequire;\r\n",
       "\r\n",
       "            window.configureRequireFromExtension = function(extensionName, extensionCacheBuster) {\r\n",
       "                let paths = {};\r\n",
       "                paths[extensionName] = `${root}extensions/${extensionName}/resources/`;\r\n",
       "                \r\n",
       "                let internalRequire = require.config({\r\n",
       "                    context: extensionCacheBuster,\r\n",
       "                    paths: paths,\r\n",
       "                    urlArgs: `cacheBuster=${extensionCacheBuster}`\r\n",
       "                    }) || require;\r\n",
       "\r\n",
       "                return internalRequire\r\n",
       "            };\r\n",
       "        \r\n",
       "            dotnetInteractiveRequire([\r\n",
       "                    'dotnet-interactive/dotnet-interactive'\r\n",
       "                ],\r\n",
       "                function (dotnet) {\r\n",
       "                    dotnet.init(window);\r\n",
       "                },\r\n",
       "                function (error) {\r\n",
       "                    console.log(error);\r\n",
       "                }\r\n",
       "            );\r\n",
       "        })\r\n",
       "        .catch(error => {console.log(error);});\r\n",
       "    }\r\n",
       "\r\n",
       "// ensure `require` is available globally\r\n",
       "if ((typeof(require) !==  typeof(Function)) || (typeof(require.config) !== typeof(Function))) {\r\n",
       "    let require_script = document.createElement('script');\r\n",
       "    require_script.setAttribute('src', 'https://cdnjs.cloudflare.com/ajax/libs/require.js/2.3.6/require.min.js');\r\n",
       "    require_script.setAttribute('type', 'text/javascript');\r\n",
       "    \r\n",
       "    \r\n",
       "    require_script.onload = function() {\r\n",
       "        loadDotnetInteractiveApi();\r\n",
       "    };\r\n",
       "\r\n",
       "    document.getElementsByTagName('head')[0].appendChild(require_script);\r\n",
       "}\r\n",
       "else {\r\n",
       "    loadDotnetInteractiveApi();\r\n",
       "}\r\n",
       "\r\n",
       "    </script>\r\n",
       "</div>"
      ]
     },
     "metadata": {},
     "output_type": "display_data"
    },
    {
     "name": "stdout",
     "output_type": "stream",
     "text": [
      "Contains 'ice': True\r\n"
     ]
    }
   ],
   "source": [
    " string w = \"Supercalifragilisticexpialidocious\";\n",
    "string substr = \"ice\";\n",
    "bool contain = w.Contains(substr);   // boolean function to check original string contained substring or not\n",
    "\n",
    "Console.WriteLine(\"Contains 'ice': \" + contain);\n",
    "    "
   ]
  },
  {
   "cell_type": "markdown",
   "id": "a472b78c",
   "metadata": {},
   "source": [
    "c. Which of the following words is the longest: Supercalifragilisticexpialidocious, Honorificabilitudinitatibus, or \n",
    "Bababadalgharaghtakamminarronnkonn?"
   ]
  },
  {
   "cell_type": "code",
   "execution_count": 15,
   "id": "1e3760e8",
   "metadata": {},
   "outputs": [
    {
     "name": "stdout",
     "output_type": "stream",
     "text": [
      "Longest Word: Error, Two or more words have the same length\r\n"
     ]
    }
   ],
   "source": [
    "string w1 = \"Supercalifragilisticexpialidocious\";  // given strings assigned to w1, w2, and w3\n",
    "string w2 = \"Honorificabilitudinitatibus\";\n",
    "string w3 = \"Bababadalgharaghtakamminarronnkonn\";\n",
    "\n",
    "string lW = \"\";\n",
    "\n",
    "if (w1.Length > w2.Length && w1.Length > w3.Length)  // compare the length of w1 with w2 and w3\n",
    "{\n",
    "    lW = w1;\n",
    "}\n",
    "else if (w2.Length > w1.Length && w2.Length > w3.Length)  // compare the length of w2 with w1 and w3\n",
    "{\n",
    "    lW = w2;\n",
    "}\n",
    "else if (w3.Length > w1.Length && w3.Length > w2.Length)  // compare the length of w3 with w1 and w2\n",
    "{\n",
    "    lW = w3;\n",
    "}\n",
    "else\n",
    "{\n",
    "    lW = \"Error, Two or more words have the same length\";  // assign an error message to lW if two or more words have the same length\n",
    "}\n",
    "\n",
    "Console.WriteLine(\"Longest Word: \" + lW);\n",
    "\n"
   ]
  },
  {
   "cell_type": "markdown",
   "id": "ad59f8e4",
   "metadata": {},
   "source": [
    "d. Which composer comes first in the dictionary: 'Berlioz', 'Borodin', 'Brian', 'Bartok', 'Bellini',\n",
    "'Buxtehude', 'Bernstein'. Which one comes last?"
   ]
  },
  {
   "cell_type": "code",
   "execution_count": 4,
   "id": "e95dbfa5",
   "metadata": {},
   "outputs": [
    {
     "name": "stdout",
     "output_type": "stream",
     "text": [
      "First composer: Bartok\n",
      "Last composer: Buxtehude\n"
     ]
    }
   ],
   "source": [
    "\n",
    "\n",
    "string[] a = { \"Berlioz\", \"Borodin\", \"Brian\", \"Bartok\", \"Bellini\", \"Buxtehude\", \"Bernstein\" };  // String stord in array\n",
    "\n",
    "Array.Sort(a); // Inbuilt function to sort an array\n",
    "\n",
    "string firstComposer = a[0];   \n",
    "string lastComposer = a[a.Length - 1];\n",
    "\n",
    "Console.WriteLine(\"First composer: \" + firstComposer);\n",
    "Console.WriteLine(\"Last composer: \" + lastComposer);\n",
    "\n",
    "    "
   ]
  },
  {
   "cell_type": "code",
   "execution_count": null,
   "id": "b22b80c9",
   "metadata": {},
   "outputs": [],
   "source": []
  },
  {
   "cell_type": "markdown",
   "id": "e13d8985",
   "metadata": {},
   "source": [
    "Question 3 C#\n",
    "Implement function triangleArea(a,b,c) that takes as input the lengths of the 3 sides of a triangle and returns the \n",
    "area of the triangle. By Heron's formula, the area of a triangle w ith side lengths a, b, and c is s(s − a)(s −b)(s −c), where\n",
    "s = (a + b + c)/2.\n",
    ">>> triangleArea(2,2,2) \n",
    "1.73205080756887728\n"
   ]
  },
  {
   "cell_type": "code",
   "execution_count": 8,
   "id": "b7cb2275",
   "metadata": {},
   "outputs": [
    {
     "name": "stdout",
     "output_type": "stream",
     "text": [
      "The area of the triangle with each side 2 is: 1.7320508075688772\r\n"
     ]
    }
   ],
   "source": [
    "using System;\n",
    "\n",
    "public class Triangle  //Using inbuilt public class Triangle\n",
    "{\n",
    "    public static double Area(double side1, double side2, double side3)  \n",
    "    {\n",
    "        double s = (side1 + side2 + side3) / 2;\n",
    "        double area = Math.Sqrt(s * (s - side1) * (s - side2) * (s - side3)); //Using Heron's formulato find the area\n",
    "        return area;\n",
    "    }\n",
    "}\n",
    "\n",
    "Triangle triangle = new Triangle();\n",
    "double side1 = 2;\n",
    "double side2 = 2;\n",
    "double side3 = 2;\n",
    "double area = Triangle.Area(side1, side2, side3);\n",
    "Console.WriteLine(\"The area of the triangle with each side 2 is: \" + area);\n",
    "    "
   ]
  },
  {
   "cell_type": "code",
   "execution_count": null,
   "id": "5577be34",
   "metadata": {},
   "outputs": [],
   "source": []
  },
  {
   "cell_type": "markdown",
   "id": "6a7254f1",
   "metadata": {},
   "source": [
    "Question 4 C#\n",
    "Write a program in C# Sharp to separate odd and even integers in separate arrays. \n",
    "Go to the editor\n",
    "Test Data :\n",
    "\n",
    "Input the number of elements to be stored in the array :5\n",
    "\n",
    "Input 5 elements in the array :\n",
    "element - 0 : 25\n",
    "\n",
    "element - 1 : 47\n",
    "\n",
    "element - 2 : 42\n",
    "\n",
    "element - 3 : 56\n",
    "\n",
    "element - 4 : 32"
   ]
  },
  {
   "cell_type": "code",
   "execution_count": 32,
   "id": "ff4696db",
   "metadata": {},
   "outputs": [
    {
     "name": "stdout",
     "output_type": "stream",
     "text": [
      "The Even numbers are:\n",
      "42\n",
      "56\n",
      "32\n",
      "The Odd numbers are:\n",
      "25\n",
      "47\n"
     ]
    }
   ],
   "source": [
    "\n",
    "\n",
    " int[] givenArray = new int[] {25, 47, 42, 56, 32};  //Assigned values to the array with given numbers\n",
    " \n",
    "     int[] evenNum = new int[5];\n",
    "     int[] oddNum = new int[5];\n",
    "     int i, j = 0, k = 0;\n",
    "         for (i = 0; i < 5; i++)\n",
    "         {\n",
    "            if (givenArray[i] % 2 == 0)\n",
    "            {\n",
    "               evenNum[j] = givenArray[i];\n",
    "               j++;\n",
    "            } \n",
    "            else\n",
    "            {\n",
    "               oddNum[k] = givenArray[i];\n",
    "               k++;\n",
    "            }\n",
    "         }\n",
    "\n",
    "         Console.WriteLine(\"The Even numbers are:\");\n",
    "         for (i = 0; i < j; i++) \n",
    "         {\n",
    "            Console.WriteLine(evenNum[i]);\n",
    "         }\n",
    "\n",
    "         Console.WriteLine(\"The Odd numbers are:\");\n",
    "         for (i = 0; i < k; i++) \n",
    "         {\n",
    "            Console.WriteLine(oddNum[i]);\n",
    "         }\n"
   ]
  },
  {
   "cell_type": "code",
   "execution_count": null,
   "id": "8785c142",
   "metadata": {},
   "outputs": [],
   "source": []
  },
  {
   "cell_type": "markdown",
   "id": "2e84dd39",
   "metadata": {},
   "source": [
    "Question 5 C#\n",
    "a. Write a function inside(x,y,x1,y1,x2,y2) that returns True or False \n",
    "depending on whether the point(x,y)lies in the rectangle with lower left \n",
    "corner (x1,y1) and upper right corner (x2,y2).\n",
    "\n",
    ">>> inside(1,1,0,0,2,3)\n",
    "True\n",
    "\n",
    ">>> inside(-1,-1,0,0,2,3)\n",
    "False"
   ]
  },
  {
   "cell_type": "code",
   "execution_count": 39,
   "id": "c0598af5",
   "metadata": {},
   "outputs": [
    {
     "name": "stdout",
     "output_type": "stream",
     "text": [
      "(1,1) lies inside rectangle(1,1,0,0,2,3)True\n",
      "(-1,-1) lies inside rectangle(-1,-1,0,0,2,3)False\n"
     ]
    }
   ],
   "source": [
    "\n",
    "\n",
    "int x = 1;\n",
    "      int y = 1;\n",
    "        int x1 = 0;\n",
    "        int y1 = 0;\n",
    "        int x2 = 2;\n",
    "        int y2 = 3;\n",
    "\n",
    "        bool inside = (x >= x1 && x <= x2 && y >= y1 && y <= y2);  /*Boolean function to check given point lies inside \n",
    "                                                                     the triangle or not if yes it will given output \n",
    "                                                                     True otherwise False*/\n",
    "\n",
    "        Console.WriteLine(\"(1,1) lies inside rectangle(1,1,0,0,2,3)\" + inside);  \n",
    "        x = -1;\n",
    "        y = -1;\n",
    "\n",
    "        inside = (x >= x1 && x <= x2 && y >= y1 && y <= y2);\n",
    "\n",
    "        Console.WriteLine(\"(-1,-1) lies inside rectangle(-1,-1,0,0,2,3)\" + inside);"
   ]
  },
  {
   "cell_type": "markdown",
   "id": "e953b8e4",
   "metadata": {},
   "source": [
    "b. Use function inside()from part a. to write an expression that tests whether the point (1,1) lies in both of the \n",
    "following rectangles: one with lower left corner (0.3, 0.5) and upper right corner (1.1, 0.7) and the other with lower \n",
    "left corner (0.5, 0.2) and upper right corner (1.1, 2)."
   ]
  },
  {
   "cell_type": "code",
   "execution_count": 10,
   "id": "76a31242",
   "metadata": {},
   "outputs": [
    {
     "name": "stdout",
     "output_type": "stream",
     "text": [
      "False\r\n"
     ]
    }
   ],
   "source": [
    "\n",
    "\n",
    "    {\n",
    "        double x = 1;\n",
    "        double y = 1;\n",
    "\n",
    "        \n",
    "        double x1 = 0.3;\n",
    "        double y1 = 0.5;\n",
    "        double x2 = 1.1;\n",
    "        double y2 = 0.7;\n",
    "\n",
    "        bool liesInsideRectangle_A = (x >= x1 && x <= x2 && y >= y1 && y <= y2);   // Boolean Function to check given point lies inside triangle pr not\n",
    "\n",
    "        \n",
    "        x1 = 0.5;\n",
    "        y1 = 0.2;\n",
    "        y2 = 2;\n",
    "\n",
    "        bool liesInsideRectangle_B = (x >= x1 && x <= x2 && y >= y1 && y <= y2);  \n",
    "\n",
    " bool isInsideBothRectangles_AandB = liesInsideRectangle_A && liesInsideRectangle_B;  //Boolean function to take And of two boolean function\n",
    "\n",
    "        Console.WriteLine(isInsideBothRectangles_AandB); \n",
    "    }\n",
    "\n",
    "\n",
    "\n"
   ]
  },
  {
   "cell_type": "code",
   "execution_count": null,
   "id": "5038bb6d",
   "metadata": {},
   "outputs": [],
   "source": []
  }
 ],
 "metadata": {
  "kernelspec": {
   "display_name": ".NET (C#)",
   "language": "C#",
   "name": ".net-csharp"
  },
  "language_info": {
   "file_extension": ".cs",
   "mimetype": "text/x-csharp",
   "name": "C#",
   "pygments_lexer": "csharp",
   "version": "11.0"
  }
 },
 "nbformat": 4,
 "nbformat_minor": 5
}
